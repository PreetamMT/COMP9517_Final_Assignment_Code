{
 "cells": [
  {
   "cell_type": "code",
   "id": "initial_id",
   "metadata": {
    "ExecuteTime": {
     "end_time": "2025-04-16T04:20:18.375545Z",
     "start_time": "2025-04-16T04:20:10.398835Z"
    },
    "id": "initial_id"
   },
   "source": [
    "import os\n",
    "import pandas as pd\n",
    "import numpy as np\n",
    "\n",
    "import matplotlib.pyplot as plt\n",
    "from PIL import Image\n",
    "\n",
    "import torch\n",
    "from torch.utils.data import DataLoader, Dataset,Subset\n",
    "from torchvision import transforms , datasets\n",
    "from sklearn.model_selection import train_test_split\n",
    "from tqdm import tqdm\n",
    "import timm\n",
    "from sklearn.metrics import f1_score, accuracy_score\n"
   ],
   "outputs": [],
   "execution_count": null
  },
  {
   "cell_type": "code",
   "source": [
    "from google.colab import drive\n",
    "drive.mount('/content/drive')\n",
    "print(os.listdir('/content/drive/My Drive/Colab Notebooks/Aerial_Landscapes'))"
   ],
   "metadata": {
    "colab": {
     "base_uri": "https://localhost:8080/"
    },
    "id": "pCXjyQ_inO_i",
    "executionInfo": {
     "status": "ok",
     "timestamp": 1745167560859,
     "user_tz": -600,
     "elapsed": 34135,
     "user": {
      "displayName": "张耀",
      "userId": "14437813745973798172"
     }
    },
    "outputId": "725ac5d8-bed2-482e-9f52-71a4ef49c6b2"
   },
   "id": "pCXjyQ_inO_i",
   "execution_count": null,
   "outputs": [
    {
     "output_type": "stream",
     "name": "stdout",
     "text": [
      "Mounted at /content/drive\n",
      "['Airport', 'Agriculture', 'City', 'Beach', 'Desert', 'Forest', 'Highway', 'Grassland', 'Lake', 'Mountain', 'Port', 'Parking', 'Residential', 'Railway', 'River']\n"
     ]
    }
   ]
  },
  {
   "cell_type": "code",
   "id": "ed31074aa106e46b",
   "metadata": {
    "ExecuteTime": {
     "end_time": "2025-04-16T04:20:41.291496Z",
     "start_time": "2025-04-16T04:20:41.224669Z"
    },
    "colab": {
     "base_uri": "https://localhost:8080/"
    },
    "id": "ed31074aa106e46b",
    "executionInfo": {
     "status": "ok",
     "timestamp": 1745167582091,
     "user_tz": -600,
     "elapsed": 446,
     "user": {
      "displayName": "张耀",
      "userId": "14437813745973798172"
     }
    },
    "outputId": "95e52bc5-9c66-444d-883c-49cd2b27a774"
   },
   "source": [
    "img_path ='/content/drive/My Drive/Colab Notebooks/Aerial_Landscapes'\n",
    "\n",
    "transform = transforms.Compose([\n",
    "    transforms.RandomHorizontalFlip(),\n",
    "    transforms.RandomRotation(30),\n",
    "    transforms.Resize((224, 224)),\n",
    "    transforms.ToTensor(),\n",
    "    transforms.Normalize(mean=[0.485, 0.456, 0.406],\n",
    "                         std=[0.229, 0.224, 0.225])\n",
    "])\n",
    "\n",
    "\n",
    "dataset_path = img_path\n",
    "\n",
    "\n",
    "dataset = datasets.ImageFolder(root=dataset_path, transform=transform)\n",
    "\n",
    "print(\"类别名称:\", dataset.classes)\n",
    "print(\"数据集大小:\", len(dataset))\n",
    "\n",
    "data_loader = DataLoader(dataset, batch_size=32, shuffle=True, num_workers=4)\n",
    "\n",
    "device = torch.device(\"cuda\" if torch.cuda.is_available() else \"cpu\")\n",
    "print(torch.cuda.get_device_name())\n",
    "torch.cuda.empty_cache()\n",
    "\n"
   ],
   "outputs": [
    {
     "output_type": "stream",
     "name": "stdout",
     "text": [
      "类别名称: ['Agriculture', 'Airport', 'Beach', 'City', 'Desert', 'Forest', 'Grassland', 'Highway', 'Lake', 'Mountain', 'Parking', 'Port', 'Railway', 'Residential', 'River']\n",
      "数据集大小: 12000\n",
      "Tesla T4\n"
     ]
    },
    {
     "output_type": "stream",
     "name": "stderr",
     "text": [
      "/usr/local/lib/python3.11/dist-packages/torch/utils/data/dataloader.py:624: UserWarning: This DataLoader will create 4 worker processes in total. Our suggested max number of worker in current system is 2, which is smaller than what this DataLoader is going to create. Please be aware that excessive worker creation might get DataLoader running slow or even freeze, lower the worker number to avoid potential slowness/freeze if necessary.\n",
      "  warnings.warn(\n"
     ]
    }
   ],
   "execution_count": null
  },
  {
   "cell_type": "code",
   "id": "b3132cded6d85323",
   "metadata": {
    "jupyter": {
     "is_executing": true
    },
    "ExecuteTime": {
     "start_time": "2025-04-16T04:20:56.323363Z"
    },
    "id": "b3132cded6d85323",
    "executionInfo": {
     "status": "ok",
     "timestamp": 1745169646221,
     "user_tz": -600,
     "elapsed": 693614,
     "user": {
      "displayName": "张耀",
      "userId": "14437813745973798172"
     }
    },
    "colab": {
     "base_uri": "https://localhost:8080/"
    },
    "outputId": "592a5dd5-c77f-4a8c-f1c8-6c0ef3609b0b"
   },
   "source": [
    "\n",
    "indices = np.arange(len(dataset))\n",
    "\n",
    "y = np.array(dataset.targets)\n",
    "\n",
    "\n",
    "train_idx, test_idx = train_test_split(indices, test_size=0.2, random_state=42, stratify=y)\n",
    "print(\"train data:\", len(train_idx))\n",
    "print(\"test data:\", len(test_idx))\n",
    "\n",
    "\n",
    "train_dataset = Subset(dataset, train_idx)\n",
    "test_dataset = Subset(dataset, test_idx)\n",
    "\n",
    "batch_size = 32\n",
    "train_loader = DataLoader(train_dataset, batch_size=batch_size, shuffle=True, num_workers=16, pin_memory=True)\n",
    "test_loader = DataLoader(test_dataset, batch_size=batch_size, shuffle=False, num_workers=16, pin_memory=True)\n",
    "\n",
    "\n",
    "device = torch.device(\"cuda\" if torch.cuda.is_available() else \"cpu\")\n",
    "num_classes = len(dataset.classes)\n",
    "model = timm.create_model('efficientnet_b0', pretrained=True, num_classes=num_classes)\n",
    "model = model.to(device)\n",
    "\n",
    "\n",
    "criterion = torch.nn.CrossEntropyLoss()\n",
    "optimizer = torch.optim.Adam(model.parameters(), lr=1e-3)\n",
    "\n",
    "\n",
    "num_epochs = 10\n",
    "for epoch in range(num_epochs):\n",
    "    model.train()\n",
    "    running_loss = 0.0\n",
    "    for images, labels in tqdm(train_loader, desc=f\"Epoch {epoch+1}\"):\n",
    "        images = images.to(device)\n",
    "        labels = labels.to(device)\n",
    "\n",
    "        optimizer.zero_grad()\n",
    "        outputs = model(images)\n",
    "        loss = criterion(outputs, labels)\n",
    "        loss.backward()\n",
    "        optimizer.step()\n",
    "        running_loss += loss.item() * images.size(0)\n",
    "\n",
    "    epoch_loss = running_loss / len(train_dataset)\n",
    "    print(f\"Epoch {epoch + 1}/{num_epochs} - Loss: {epoch_loss:.4f}\")\n",
    "\n",
    "    model.eval()\n",
    "    correct, total = 0, 0\n",
    "    y_true, y_pred = [], []\n",
    "    with torch.no_grad():\n",
    "        for images, labels in test_loader:\n",
    "            images = images.to(device)\n",
    "            labels = labels.to(device)\n",
    "            outputs = model(images)\n",
    "            preds = outputs.argmax(dim=1)\n",
    "            correct += (preds == labels).sum().item()\n",
    "            total += labels.size(0)\n",
    "            y_true.extend(labels.cpu().tolist())\n",
    "            y_pred.extend(preds.cpu().tolist())\n",
    "    accuracy = correct / total\n",
    "    print(f\"Test Accuracy: {accuracy:.4f}\")\n",
    "    print(\"=== Classification Report ===\")\n",
    "    print(classification_report(\n",
    "        y_true,\n",
    "        y_pred,\n",
    "        target_names=dataset.classes,\n",
    "        digits=4\n",
    "    ))"
   ],
   "outputs": [
    {
     "output_type": "stream",
     "name": "stdout",
     "text": [
      "训练集样本数: 9600\n",
      "测试集样本数: 2400\n"
     ]
    },
    {
     "output_type": "stream",
     "name": "stderr",
     "text": [
      "/usr/local/lib/python3.11/dist-packages/torch/utils/data/dataloader.py:624: UserWarning: This DataLoader will create 16 worker processes in total. Our suggested max number of worker in current system is 2, which is smaller than what this DataLoader is going to create. Please be aware that excessive worker creation might get DataLoader running slow or even freeze, lower the worker number to avoid potential slowness/freeze if necessary.\n",
      "  warnings.warn(\n",
      "Epoch 1: 100%|██████████| 300/300 [00:56<00:00,  5.27it/s]"
     ]
    },
    {
     "output_type": "stream",
     "name": "stdout",
     "text": [
      "Epoch 1/10 - Loss: 0.4906\n"
     ]
    },
    {
     "output_type": "stream",
     "name": "stderr",
     "text": [
      "\n"
     ]
    },
    {
     "output_type": "stream",
     "name": "stdout",
     "text": [
      "Test Accuracy: 0.9408\n",
      "=== Classification Report ===\n",
      "              precision    recall  f1-score   support\n",
      "\n",
      " Agriculture     0.9671    0.9187    0.9423       160\n",
      "     Airport     0.9346    0.8938    0.9137       160\n",
      "       Beach     0.9244    0.9938    0.9578       160\n",
      "        City     0.9455    0.9750    0.9600       160\n",
      "      Desert     0.9608    0.9187    0.9393       160\n",
      "      Forest     0.9675    0.9313    0.9490       160\n",
      "   Grassland     0.9235    0.9812    0.9515       160\n",
      "     Highway     0.9850    0.8187    0.8942       160\n",
      "        Lake     0.9603    0.9062    0.9325       160\n",
      "    Mountain     0.9728    0.8938    0.9316       160\n",
      "     Parking     0.9349    0.9875    0.9605       160\n",
      "        Port     0.9811    0.9750    0.9781       160\n",
      "     Railway     0.8112    0.9938    0.8933       160\n",
      " Residential     0.9815    0.9938    0.9876       160\n",
      "       River     0.9085    0.9313    0.9198       160\n",
      "\n",
      "    accuracy                         0.9408      2400\n",
      "   macro avg     0.9439    0.9408    0.9407      2400\n",
      "weighted avg     0.9439    0.9408    0.9407      2400\n",
      "\n"
     ]
    },
    {
     "output_type": "stream",
     "name": "stderr",
     "text": [
      "\rEpoch 2:   0%|          | 0/300 [00:00<?, ?it/s]/usr/local/lib/python3.11/dist-packages/torch/utils/data/dataloader.py:624: UserWarning: This DataLoader will create 16 worker processes in total. Our suggested max number of worker in current system is 2, which is smaller than what this DataLoader is going to create. Please be aware that excessive worker creation might get DataLoader running slow or even freeze, lower the worker number to avoid potential slowness/freeze if necessary.\n",
      "  warnings.warn(\n",
      "Epoch 2: 100%|██████████| 300/300 [00:57<00:00,  5.18it/s]"
     ]
    },
    {
     "output_type": "stream",
     "name": "stdout",
     "text": [
      "Epoch 2/10 - Loss: 0.1741\n"
     ]
    },
    {
     "output_type": "stream",
     "name": "stderr",
     "text": [
      "\n"
     ]
    },
    {
     "output_type": "stream",
     "name": "stdout",
     "text": [
      "Test Accuracy: 0.9463\n",
      "=== Classification Report ===\n",
      "              precision    recall  f1-score   support\n",
      "\n",
      " Agriculture     0.9444    0.9563    0.9503       160\n",
      "     Airport     0.9494    0.9375    0.9434       160\n",
      "       Beach     0.9693    0.9875    0.9783       160\n",
      "        City     0.8541    0.9875    0.9159       160\n",
      "      Desert     0.9865    0.9125    0.9481       160\n",
      "      Forest     0.9796    0.9000    0.9381       160\n",
      "   Grassland     0.8870    0.9812    0.9318       160\n",
      "     Highway     0.9812    0.9812    0.9812       160\n",
      "        Lake     0.9655    0.8750    0.9180       160\n",
      "    Mountain     0.9317    0.9375    0.9346       160\n",
      "     Parking     0.9576    0.9875    0.9723       160\n",
      "        Port     0.9737    0.9250    0.9487       160\n",
      "     Railway     0.9796    0.9000    0.9381       160\n",
      " Residential     0.9815    0.9938    0.9876       160\n",
      "       River     0.8869    0.9313    0.9085       160\n",
      "\n",
      "    accuracy                         0.9463      2400\n",
      "   macro avg     0.9485    0.9463    0.9463      2400\n",
      "weighted avg     0.9485    0.9463    0.9463      2400\n",
      "\n"
     ]
    },
    {
     "output_type": "stream",
     "name": "stderr",
     "text": [
      "\rEpoch 3:   0%|          | 0/300 [00:00<?, ?it/s]/usr/local/lib/python3.11/dist-packages/torch/utils/data/dataloader.py:624: UserWarning: This DataLoader will create 16 worker processes in total. Our suggested max number of worker in current system is 2, which is smaller than what this DataLoader is going to create. Please be aware that excessive worker creation might get DataLoader running slow or even freeze, lower the worker number to avoid potential slowness/freeze if necessary.\n",
      "  warnings.warn(\n",
      "Epoch 3: 100%|██████████| 300/300 [00:57<00:00,  5.17it/s]"
     ]
    },
    {
     "output_type": "stream",
     "name": "stdout",
     "text": [
      "Epoch 3/10 - Loss: 0.1436\n"
     ]
    },
    {
     "output_type": "stream",
     "name": "stderr",
     "text": [
      "\n"
     ]
    },
    {
     "output_type": "stream",
     "name": "stdout",
     "text": [
      "Test Accuracy: 0.9546\n",
      "=== Classification Report ===\n",
      "              precision    recall  f1-score   support\n",
      "\n",
      " Agriculture     0.9929    0.8750    0.9302       160\n",
      "     Airport     0.9390    0.9625    0.9506       160\n",
      "       Beach     0.9568    0.9688    0.9627       160\n",
      "        City     0.9744    0.9500    0.9620       160\n",
      "      Desert     0.9029    0.9875    0.9433       160\n",
      "      Forest     0.9875    0.9875    0.9875       160\n",
      "   Grassland     0.9390    0.9625    0.9506       160\n",
      "     Highway     0.9565    0.9625    0.9595       160\n",
      "        Lake     0.9325    0.9500    0.9412       160\n",
      "    Mountain     0.9724    0.8812    0.9246       160\n",
      "     Parking     1.0000    0.9625    0.9809       160\n",
      "        Port     0.9688    0.9688    0.9688       160\n",
      "     Railway     0.9226    0.9688    0.9451       160\n",
      " Residential     0.9755    0.9938    0.9845       160\n",
      "       River     0.9146    0.9375    0.9259       160\n",
      "\n",
      "    accuracy                         0.9546      2400\n",
      "   macro avg     0.9557    0.9546    0.9545      2400\n",
      "weighted avg     0.9557    0.9546    0.9545      2400\n",
      "\n"
     ]
    },
    {
     "output_type": "stream",
     "name": "stderr",
     "text": [
      "\rEpoch 4:   0%|          | 0/300 [00:00<?, ?it/s]/usr/local/lib/python3.11/dist-packages/torch/utils/data/dataloader.py:624: UserWarning: This DataLoader will create 16 worker processes in total. Our suggested max number of worker in current system is 2, which is smaller than what this DataLoader is going to create. Please be aware that excessive worker creation might get DataLoader running slow or even freeze, lower the worker number to avoid potential slowness/freeze if necessary.\n",
      "  warnings.warn(\n",
      "Epoch 4: 100%|██████████| 300/300 [00:56<00:00,  5.31it/s]"
     ]
    },
    {
     "output_type": "stream",
     "name": "stdout",
     "text": [
      "Epoch 4/10 - Loss: 0.0892\n"
     ]
    },
    {
     "output_type": "stream",
     "name": "stderr",
     "text": [
      "\n"
     ]
    },
    {
     "output_type": "stream",
     "name": "stdout",
     "text": [
      "Test Accuracy: 0.9592\n",
      "=== Classification Report ===\n",
      "              precision    recall  f1-score   support\n",
      "\n",
      " Agriculture     0.9390    0.9625    0.9506       160\n",
      "     Airport     0.9490    0.9313    0.9401       160\n",
      "       Beach     0.9695    0.9938    0.9815       160\n",
      "        City     0.9506    0.9625    0.9565       160\n",
      "      Desert     0.9747    0.9625    0.9686       160\n",
      "      Forest     0.9390    0.9625    0.9506       160\n",
      "   Grassland     0.9623    0.9563    0.9592       160\n",
      "     Highway     0.9873    0.9688    0.9779       160\n",
      "        Lake     0.9551    0.9313    0.9430       160\n",
      "    Mountain     0.9679    0.9437    0.9557       160\n",
      "     Parking     1.0000    0.9750    0.9873       160\n",
      "        Port     0.9686    0.9625    0.9655       160\n",
      "     Railway     0.9345    0.9812    0.9573       160\n",
      " Residential     0.9936    0.9688    0.9810       160\n",
      "       River     0.9024    0.9250    0.9136       160\n",
      "\n",
      "    accuracy                         0.9592      2400\n",
      "   macro avg     0.9596    0.9592    0.9592      2400\n",
      "weighted avg     0.9596    0.9592    0.9592      2400\n",
      "\n"
     ]
    },
    {
     "output_type": "stream",
     "name": "stderr",
     "text": [
      "\rEpoch 5:   0%|          | 0/300 [00:00<?, ?it/s]/usr/local/lib/python3.11/dist-packages/torch/utils/data/dataloader.py:624: UserWarning: This DataLoader will create 16 worker processes in total. Our suggested max number of worker in current system is 2, which is smaller than what this DataLoader is going to create. Please be aware that excessive worker creation might get DataLoader running slow or even freeze, lower the worker number to avoid potential slowness/freeze if necessary.\n",
      "  warnings.warn(\n",
      "Epoch 5: 100%|██████████| 300/300 [00:57<00:00,  5.21it/s]"
     ]
    },
    {
     "output_type": "stream",
     "name": "stdout",
     "text": [
      "Epoch 5/10 - Loss: 0.1014\n"
     ]
    },
    {
     "output_type": "stream",
     "name": "stderr",
     "text": [
      "\n"
     ]
    },
    {
     "output_type": "stream",
     "name": "stdout",
     "text": [
      "Test Accuracy: 0.9658\n",
      "=== Classification Report ===\n",
      "              precision    recall  f1-score   support\n",
      "\n",
      " Agriculture     0.9686    0.9625    0.9655       160\n",
      "     Airport     0.9277    0.9625    0.9448       160\n",
      "       Beach     0.9871    0.9563    0.9714       160\n",
      "        City     0.9808    0.9563    0.9684       160\n",
      "      Desert     0.9506    0.9625    0.9565       160\n",
      "      Forest     0.9405    0.9875    0.9634       160\n",
      "   Grassland     0.9671    0.9187    0.9423       160\n",
      "     Highway     0.9752    0.9812    0.9782       160\n",
      "        Lake     0.9625    0.9625    0.9625       160\n",
      "    Mountain     0.9345    0.9812    0.9573       160\n",
      "     Parking     0.9936    0.9750    0.9842       160\n",
      "        Port     0.9871    0.9563    0.9714       160\n",
      "     Railway     0.9752    0.9812    0.9782       160\n",
      " Residential     0.9937    0.9812    0.9874       160\n",
      "       River     0.9506    0.9625    0.9565       160\n",
      "\n",
      "    accuracy                         0.9658      2400\n",
      "   macro avg     0.9663    0.9658    0.9659      2400\n",
      "weighted avg     0.9663    0.9658    0.9659      2400\n",
      "\n"
     ]
    },
    {
     "output_type": "stream",
     "name": "stderr",
     "text": [
      "\rEpoch 6:   0%|          | 0/300 [00:00<?, ?it/s]/usr/local/lib/python3.11/dist-packages/torch/utils/data/dataloader.py:624: UserWarning: This DataLoader will create 16 worker processes in total. Our suggested max number of worker in current system is 2, which is smaller than what this DataLoader is going to create. Please be aware that excessive worker creation might get DataLoader running slow or even freeze, lower the worker number to avoid potential slowness/freeze if necessary.\n",
      "  warnings.warn(\n",
      "Epoch 6: 100%|██████████| 300/300 [00:57<00:00,  5.19it/s]"
     ]
    },
    {
     "output_type": "stream",
     "name": "stdout",
     "text": [
      "Epoch 6/10 - Loss: 0.0621\n"
     ]
    },
    {
     "output_type": "stream",
     "name": "stderr",
     "text": [
      "\n"
     ]
    },
    {
     "output_type": "stream",
     "name": "stdout",
     "text": [
      "Test Accuracy: 0.9617\n",
      "=== Classification Report ===\n",
      "              precision    recall  f1-score   support\n",
      "\n",
      " Agriculture     0.9329    0.9563    0.9444       160\n",
      "     Airport     0.9437    0.9437    0.9437       160\n",
      "       Beach     1.0000    0.9812    0.9905       160\n",
      "        City     0.9667    0.9062    0.9355       160\n",
      "      Desert     0.9353    0.9938    0.9636       160\n",
      "      Forest     0.9874    0.9812    0.9843       160\n",
      "   Grassland     0.9689    0.9750    0.9720       160\n",
      "     Highway     0.9874    0.9812    0.9843       160\n",
      "        Lake     0.9231    0.9750    0.9483       160\n",
      "    Mountain     0.9563    0.9563    0.9563       160\n",
      "     Parking     0.9693    0.9875    0.9783       160\n",
      "        Port     0.9636    0.9938    0.9785       160\n",
      "     Railway     0.9494    0.9375    0.9434       160\n",
      " Residential     0.9755    0.9938    0.9845       160\n",
      "       River     0.9718    0.8625    0.9139       160\n",
      "\n",
      "    accuracy                         0.9617      2400\n",
      "   macro avg     0.9621    0.9617    0.9614      2400\n",
      "weighted avg     0.9621    0.9617    0.9614      2400\n",
      "\n"
     ]
    },
    {
     "output_type": "stream",
     "name": "stderr",
     "text": [
      "\rEpoch 7:   0%|          | 0/300 [00:00<?, ?it/s]/usr/local/lib/python3.11/dist-packages/torch/utils/data/dataloader.py:624: UserWarning: This DataLoader will create 16 worker processes in total. Our suggested max number of worker in current system is 2, which is smaller than what this DataLoader is going to create. Please be aware that excessive worker creation might get DataLoader running slow or even freeze, lower the worker number to avoid potential slowness/freeze if necessary.\n",
      "  warnings.warn(\n",
      "Epoch 7: 100%|██████████| 300/300 [00:57<00:00,  5.18it/s]"
     ]
    },
    {
     "output_type": "stream",
     "name": "stdout",
     "text": [
      "Epoch 7/10 - Loss: 0.0761\n"
     ]
    },
    {
     "output_type": "stream",
     "name": "stderr",
     "text": [
      "\n"
     ]
    },
    {
     "output_type": "stream",
     "name": "stdout",
     "text": [
      "Test Accuracy: 0.9596\n",
      "=== Classification Report ===\n",
      "              precision    recall  f1-score   support\n",
      "\n",
      " Agriculture     0.9349    0.9875    0.9605       160\n",
      "     Airport     0.9625    0.9625    0.9625       160\n",
      "       Beach     0.9935    0.9563    0.9745       160\n",
      "        City     0.9565    0.9625    0.9595       160\n",
      "      Desert     0.9571    0.9750    0.9659       160\n",
      "      Forest     0.9686    0.9625    0.9655       160\n",
      "   Grassland     0.9739    0.9313    0.9521       160\n",
      "     Highway     0.9313    0.9313    0.9313       160\n",
      "        Lake     0.9181    0.9812    0.9486       160\n",
      "    Mountain     0.9390    0.9625    0.9506       160\n",
      "     Parking     0.9935    0.9563    0.9745       160\n",
      "        Port     0.9750    0.9750    0.9750       160\n",
      "     Railway     0.9387    0.9563    0.9474       160\n",
      " Residential     0.9874    0.9812    0.9843       160\n",
      "       River     0.9733    0.9125    0.9419       160\n",
      "\n",
      "    accuracy                         0.9596      2400\n",
      "   macro avg     0.9602    0.9596    0.9596      2400\n",
      "weighted avg     0.9602    0.9596    0.9596      2400\n",
      "\n"
     ]
    },
    {
     "output_type": "stream",
     "name": "stderr",
     "text": [
      "\rEpoch 8:   0%|          | 0/300 [00:00<?, ?it/s]/usr/local/lib/python3.11/dist-packages/torch/utils/data/dataloader.py:624: UserWarning: This DataLoader will create 16 worker processes in total. Our suggested max number of worker in current system is 2, which is smaller than what this DataLoader is going to create. Please be aware that excessive worker creation might get DataLoader running slow or even freeze, lower the worker number to avoid potential slowness/freeze if necessary.\n",
      "  warnings.warn(\n",
      "Epoch 8: 100%|██████████| 300/300 [00:58<00:00,  5.12it/s]"
     ]
    },
    {
     "output_type": "stream",
     "name": "stdout",
     "text": [
      "Epoch 8/10 - Loss: 0.0797\n"
     ]
    },
    {
     "output_type": "stream",
     "name": "stderr",
     "text": [
      "\n"
     ]
    },
    {
     "output_type": "stream",
     "name": "stdout",
     "text": [
      "Test Accuracy: 0.9567\n",
      "=== Classification Report ===\n",
      "              precision    recall  f1-score   support\n",
      "\n",
      " Agriculture     0.9086    0.9938    0.9493       160\n",
      "     Airport     0.9560    0.9500    0.9530       160\n",
      "       Beach     0.9753    0.9875    0.9814       160\n",
      "        City     0.9568    0.9688    0.9627       160\n",
      "      Desert     0.9928    0.8625    0.9231       160\n",
      "      Forest     0.9682    0.9500    0.9590       160\n",
      "   Grassland     0.9691    0.9812    0.9752       160\n",
      "     Highway     0.9688    0.9688    0.9688       160\n",
      "        Lake     0.9497    0.9437    0.9467       160\n",
      "    Mountain     0.8432    0.9750    0.9043       160\n",
      "     Parking     1.0000    0.9938    0.9969       160\n",
      "        Port     0.9755    0.9938    0.9845       160\n",
      "     Railway     0.9573    0.9812    0.9691       160\n",
      " Residential     0.9815    0.9938    0.9876       160\n",
      "       River     0.9773    0.8063    0.8836       160\n",
      "\n",
      "    accuracy                         0.9567      2400\n",
      "   macro avg     0.9587    0.9567    0.9563      2400\n",
      "weighted avg     0.9587    0.9567    0.9563      2400\n",
      "\n"
     ]
    },
    {
     "output_type": "stream",
     "name": "stderr",
     "text": [
      "\rEpoch 9:   0%|          | 0/300 [00:00<?, ?it/s]/usr/local/lib/python3.11/dist-packages/torch/utils/data/dataloader.py:624: UserWarning: This DataLoader will create 16 worker processes in total. Our suggested max number of worker in current system is 2, which is smaller than what this DataLoader is going to create. Please be aware that excessive worker creation might get DataLoader running slow or even freeze, lower the worker number to avoid potential slowness/freeze if necessary.\n",
      "  warnings.warn(\n",
      "Epoch 9: 100%|██████████| 300/300 [00:57<00:00,  5.19it/s]"
     ]
    },
    {
     "output_type": "stream",
     "name": "stdout",
     "text": [
      "Epoch 9/10 - Loss: 0.0524\n"
     ]
    },
    {
     "output_type": "stream",
     "name": "stderr",
     "text": [
      "\n"
     ]
    },
    {
     "output_type": "stream",
     "name": "stdout",
     "text": [
      "Test Accuracy: 0.9608\n",
      "=== Classification Report ===\n",
      "              precision    recall  f1-score   support\n",
      "\n",
      " Agriculture     0.9750    0.9750    0.9750       160\n",
      "     Airport     0.9679    0.9437    0.9557       160\n",
      "       Beach     0.9937    0.9812    0.9874       160\n",
      "        City     0.9573    0.9812    0.9691       160\n",
      "      Desert     0.9750    0.9750    0.9750       160\n",
      "      Forest     0.9521    0.9938    0.9725       160\n",
      "   Grassland     0.9634    0.9875    0.9753       160\n",
      "     Highway     0.9573    0.9812    0.9691       160\n",
      "        Lake     0.9434    0.9375    0.9404       160\n",
      "    Mountain     0.9800    0.9187    0.9484       160\n",
      "     Parking     0.8827    0.9875    0.9322       160\n",
      "        Port     0.9858    0.8688    0.9236       160\n",
      "     Railway     0.9870    0.9500    0.9682       160\n",
      " Residential     0.9937    0.9875    0.9906       160\n",
      "       River     0.9152    0.9437    0.9292       160\n",
      "\n",
      "    accuracy                         0.9608      2400\n",
      "   macro avg     0.9620    0.9608    0.9608      2400\n",
      "weighted avg     0.9620    0.9608    0.9608      2400\n",
      "\n"
     ]
    },
    {
     "output_type": "stream",
     "name": "stderr",
     "text": [
      "\rEpoch 10:   0%|          | 0/300 [00:00<?, ?it/s]/usr/local/lib/python3.11/dist-packages/torch/utils/data/dataloader.py:624: UserWarning: This DataLoader will create 16 worker processes in total. Our suggested max number of worker in current system is 2, which is smaller than what this DataLoader is going to create. Please be aware that excessive worker creation might get DataLoader running slow or even freeze, lower the worker number to avoid potential slowness/freeze if necessary.\n",
      "  warnings.warn(\n",
      "Epoch 10: 100%|██████████| 300/300 [00:56<00:00,  5.27it/s]"
     ]
    },
    {
     "output_type": "stream",
     "name": "stdout",
     "text": [
      "Epoch 10/10 - Loss: 0.0602\n"
     ]
    },
    {
     "output_type": "stream",
     "name": "stderr",
     "text": [
      "\n"
     ]
    },
    {
     "output_type": "stream",
     "name": "stdout",
     "text": [
      "Test Accuracy: 0.9604\n",
      "=== Classification Report ===\n",
      "              precision    recall  f1-score   support\n",
      "\n",
      " Agriculture     0.9181    0.9812    0.9486       160\n",
      "     Airport     0.9133    0.9875    0.9489       160\n",
      "       Beach     0.9353    0.9938    0.9636       160\n",
      "        City     0.9936    0.9688    0.9810       160\n",
      "      Desert     0.9401    0.9812    0.9602       160\n",
      "      Forest     0.9571    0.9750    0.9659       160\n",
      "   Grassland     0.9872    0.9625    0.9747       160\n",
      "     Highway     0.9625    0.9625    0.9625       160\n",
      "        Lake     0.9563    0.9563    0.9563       160\n",
      "    Mountain     0.9796    0.9000    0.9381       160\n",
      "     Parking     0.9936    0.9688    0.9810       160\n",
      "        Port     0.9497    0.9437    0.9467       160\n",
      "     Railway     0.9808    0.9563    0.9684       160\n",
      " Residential     0.9874    0.9812    0.9843       160\n",
      "       River     0.9660    0.8875    0.9251       160\n",
      "\n",
      "    accuracy                         0.9604      2400\n",
      "   macro avg     0.9614    0.9604    0.9604      2400\n",
      "weighted avg     0.9614    0.9604    0.9604      2400\n",
      "\n"
     ]
    }
   ],
   "execution_count": null
  },
  {
   "cell_type": "code",
   "execution_count": null,
   "id": "1866da82cfde1907",
   "metadata": {
    "id": "1866da82cfde1907",
    "colab": {
     "base_uri": "https://localhost:8080/",
     "height": 472
    },
    "executionInfo": {
     "status": "ok",
     "timestamp": 1745090731145,
     "user_tz": -600,
     "elapsed": 18210,
     "user": {
      "displayName": "张耀",
      "userId": "14437813745973798172"
     }
    },
    "outputId": "046a54d5-ad45-4537-93c0-741a62befa72"
   },
   "outputs": [
    {
     "output_type": "display_data",
     "data": {
      "text/plain": [
       "<Figure size 640x480 with 2 Axes>"
      ],
      "image/png": "[encoded data removed]"
     },
     "metadata": {}
    }
   ],
   "source": [
    "from sklearn.metrics import confusion_matrix, ConfusionMatrixDisplay\n",
    "all_preds, all_labels = [], []\n",
    "model.eval()\n",
    "with torch.no_grad():\n",
    "    for images, labels in test_loader:\n",
    "        images, labels = images.to(device), labels.to(device)\n",
    "        logits = model(images)\n",
    "        preds = logits.argmax(dim=1)\n",
    "        all_preds.extend(preds.cpu().numpy())\n",
    "        all_labels.extend(labels.cpu().numpy())\n",
    "\n",
    "cm = confusion_matrix(all_labels, all_preds)\n",
    "disp = ConfusionMatrixDisplay(cm, display_labels=dataset.classes)\n",
    "disp.plot(cmap=plt.cm.Blues)\n",
    "plt.title(\"Test Set Confusion Matrix\")\n",
    "plt.show()"
   ]
  },
  {
   "cell_type": "code",
   "source": [],
   "metadata": {
    "id": "cNo1xNPqEz7K"
   },
   "id": "cNo1xNPqEz7K",
   "execution_count": null,
   "outputs": []
  }
 ],
 "metadata": {
  "kernelspec": {
   "display_name": "Python 3",
   "name": "python3"
  },
  "language_info": {
   "codemirror_mode": {
    "name": "ipython",
    "version": 3
   },
   "file_extension": ".py",
   "mimetype": "text/x-python",
   "name": "python",
   "nbconvert_exporter": "python",
   "pygments_lexer": "ipython3",
   "version": "3.11.11"
  },
  "colab": {
   "provenance": [],
   "gpuType": "T4"
  },
  "accelerator": "GPU"
 },
 "nbformat": 4,
 "nbformat_minor": 5
}
