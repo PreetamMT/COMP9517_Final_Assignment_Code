{
  "cells": [
    {
      "cell_type": "code",
      "id": "initial_id",
      "metadata": {
        "ExecuteTime": {
          "end_time": "2025-04-16T04:20:18.375545Z",
          "start_time": "2025-04-16T04:20:10.398835Z"
        },
        "id": "initial_id"
      },
      "source": [
        "import os\n",
        "\n",
        "import pandas as pd\n",
        "import numpy as np\n",
        "\n",
        "import matplotlib.pyplot as plt\n",
        "from PIL import Image\n",
        "\n",
        "import torch\n",
        "from torch.utils.data import DataLoader, Dataset,Subset\n",
        "from torchvision import transforms , datasets\n",
        "from sklearn.model_selection import train_test_split\n",
        "from tqdm import tqdm\n",
        "import timm\n",
        "from sklearn.metrics import f1_score, accuracy_score\n",
        "from sklearn.metrics import confusion_matrix, ConfusionMatrixDisplay, classification_report\n"
      ],
      "outputs": [],
      "execution_count": null
    },
    {
      "cell_type": "code",
      "source": [
        "from google.colab import drive\n",
        "drive.mount('/content/drive')\n",
        "print(os.listdir('/content/drive/My Drive/Colab Notebooks/Aerial_Landscapes'))"
      ],
      "metadata": {
        "colab": {
          "base_uri": "https://localhost:8080/"
        },
        "id": "pCXjyQ_inO_i",
        "outputId": "5cb3c23a-bda3-4e80-d025-7efb4ce8c95a"
      },
      "id": "pCXjyQ_inO_i",
      "execution_count": null,
      "outputs": [
        {
          "output_type": "stream",
          "name": "stdout",
          "text": [
            "Mounted at /content/drive\n",
            "['Airport', 'Agriculture', 'City', 'Beach', 'Desert', 'Forest', 'Highway', 'Grassland', 'Lake', 'Mountain', 'Port', 'Parking', 'Residential', 'Railway', 'River']\n"
          ]
        }
      ]
    },
    {
      "cell_type": "code",
      "id": "ed31074aa106e46b",
      "metadata": {
        "ExecuteTime": {
          "end_time": "2025-04-16T04:20:41.291496Z",
          "start_time": "2025-04-16T04:20:41.224669Z"
        },
        "colab": {
          "base_uri": "https://localhost:8080/"
        },
        "id": "ed31074aa106e46b",
        "outputId": "b3311d13-c1c0-4327-faa5-f7a71e158032"
      },
      "source": [
        "img_path ='/content/drive/My Drive/Colab Notebooks/Aerial_Landscapes'\n",
        "\n",
        "transform = transforms.Compose([\n",
        "    transforms.RandomHorizontalFlip(),\n",
        "    transforms.RandomRotation(30),\n",
        "    transforms.Resize((224, 224)),\n",
        "    transforms.ToTensor(),\n",
        "    transforms.Normalize(mean=[0.485, 0.456, 0.406],\n",
        "                         std=[0.229, 0.224, 0.225])\n",
        "])\n",
        "\n",
        "\n",
        "dataset_path = img_path\n",
        "\n",
        "\n",
        "dataset = datasets.ImageFolder(root=dataset_path, transform=transform)\n",
        "\n",
        "print(\"labels:\", dataset.classes)\n",
        "print(\"number:\", len(dataset))\n",
        "\n",
        "data_loader = DataLoader(dataset, batch_size=32, shuffle=True, num_workers=4)\n",
        "\n",
        "device = torch.device(\"cuda\" if torch.cuda.is_available() else \"cpu\")\n",
        "print(torch.cuda.get_device_name())\n",
        "torch.cuda.empty_cache()\n",
        "\n"
      ],
      "outputs": [
        {
          "output_type": "stream",
          "name": "stdout",
          "text": [
            "labels: ['Agriculture', 'Airport', 'Beach', 'City', 'Desert', 'Forest', 'Grassland', 'Highway', 'Lake', 'Mountain', 'Parking', 'Port', 'Railway', 'Residential', 'River']\n",
            "number: 12000\n",
            "Tesla T4\n"
          ]
        }
      ],
      "execution_count": null
    },
    {
      "cell_type": "code",
      "id": "b3132cded6d85323",
      "metadata": {
        "jupyter": {
          "is_executing": true
        },
        "ExecuteTime": {
          "start_time": "2025-04-16T04:20:56.323363Z"
        },
        "id": "b3132cded6d85323",
        "colab": {
          "base_uri": "https://localhost:8080/"
        },
        "outputId": "15db93d7-7715-4c5c-c05d-8d596e760fc8"
      },
      "source": [
        "\n",
        "indices = np.arange(len(dataset))\n",
        "\n",
        "y = np.array(dataset.targets)\n",
        "\n",
        "\n",
        "train_idx, test_idx = train_test_split(indices, test_size=0.2, random_state=42, stratify=y)\n",
        "print(\"train data:\", len(train_idx))\n",
        "print(\"test data:\", len(test_idx))\n",
        "\n",
        "\n",
        "train_dataset = Subset(dataset, train_idx)\n",
        "test_dataset = Subset(dataset, test_idx)\n",
        "\n",
        "batch_size = 32\n",
        "train_loader = DataLoader(train_dataset, batch_size=batch_size, shuffle=True, num_workers=16, pin_memory=True)\n",
        "test_loader = DataLoader(test_dataset, batch_size=batch_size, shuffle=False, num_workers=16, pin_memory=True)\n",
        "\n",
        "\n",
        "device = torch.device(\"cuda\" if torch.cuda.is_available() else \"cpu\")\n",
        "num_classes = len(dataset.classes)\n",
        "model = timm.create_model('efficientnet_b0', pretrained=True, num_classes=num_classes)\n",
        "model = model.to(device)\n",
        "\n",
        "\n",
        "criterion = torch.nn.CrossEntropyLoss()\n",
        "optimizer = torch.optim.Adam(model.parameters(), lr=1e-3)\n",
        "\n",
        "\n",
        "num_epochs = 20\n",
        "for epoch in range(num_epochs):\n",
        "    model.train()\n",
        "    running_loss = 0.0\n",
        "    for images, labels in tqdm(train_loader, desc=f\"Epoch {epoch+1}\"):\n",
        "        images = images.to(device)\n",
        "        labels = labels.to(device)\n",
        "\n",
        "        optimizer.zero_grad()\n",
        "        outputs = model(images)\n",
        "        loss = criterion(outputs, labels)\n",
        "        loss.backward()\n",
        "        optimizer.step()\n",
        "        running_loss += loss.item() * images.size(0)\n",
        "\n",
        "    epoch_loss = running_loss / len(train_dataset)\n",
        "    print(f\"Epoch {epoch + 1}/{num_epochs} - Loss: {epoch_loss:.4f}\")\n",
        "\n",
        "    model.eval()\n",
        "    correct, total = 0, 0\n",
        "    y_true, y_pred = [], []\n",
        "    with torch.no_grad():\n",
        "        for images, labels in test_loader:\n",
        "            images = images.to(device)\n",
        "            labels = labels.to(device)\n",
        "            outputs = model(images)\n",
        "            preds = outputs.argmax(dim=1)\n",
        "            correct += (preds == labels).sum().item()\n",
        "            total += labels.size(0)\n",
        "            y_true.extend(labels.cpu().tolist())\n",
        "            y_pred.extend(preds.cpu().tolist())\n",
        "    accuracy = correct / total\n",
        "    print(f\"Test Accuracy: {accuracy:.4f}\")\n",
        "    print(\"=== Classification Report ===\")\n",
        "    print(classification_report(\n",
        "        y_true,\n",
        "        y_pred,\n",
        "        target_names=dataset.classes,\n",
        "        digits=4\n",
        "    ))"
      ],
      "outputs": [
        {
          "output_type": "stream",
          "name": "stdout",
          "text": [
            "train data: 9600\n",
            "test data: 2400\n"
          ]
        },
        {
          "output_type": "stream",
          "name": "stderr",
          "text": [
            "/usr/local/lib/python3.11/dist-packages/torch/utils/data/dataloader.py:624: UserWarning: This DataLoader will create 16 worker processes in total. Our suggested max number of worker in current system is 2, which is smaller than what this DataLoader is going to create. Please be aware that excessive worker creation might get DataLoader running slow or even freeze, lower the worker number to avoid potential slowness/freeze if necessary.\n",
            "  warnings.warn(\n",
            "Epoch 1: 100%|██████████| 300/300 [01:01<00:00,  4.84it/s]"
          ]
        },
        {
          "output_type": "stream",
          "name": "stdout",
          "text": [
            "Epoch 1/20 - Loss: 0.5439\n"
          ]
        },
        {
          "output_type": "stream",
          "name": "stderr",
          "text": [
            "\n"
          ]
        },
        {
          "output_type": "stream",
          "name": "stdout",
          "text": [
            "Test Accuracy: 0.9083\n",
            "=== Classification Report ===\n",
            "              precision    recall  f1-score   support\n",
            "\n",
            " Agriculture     0.9470    0.8938    0.9196       160\n",
            "     Airport     0.8314    0.8938    0.8614       160\n",
            "       Beach     0.9662    0.8938    0.9286       160\n",
            "        City     0.9709    0.6250    0.7605       160\n",
            "      Desert     0.9036    0.9375    0.9202       160\n",
            "      Forest     0.9536    0.9000    0.9260       160\n",
            "   Grassland     0.8743    0.9563    0.9134       160\n",
            "     Highway     0.8820    0.9812    0.9290       160\n",
            "        Lake     0.9387    0.9563    0.9474       160\n",
            "    Mountain     0.8909    0.9187    0.9046       160\n",
            "     Parking     0.9684    0.9563    0.9623       160\n",
            "        Port     0.9812    0.9812    0.9812       160\n",
            "     Railway     0.8933    0.8375    0.8645       160\n",
            " Residential     0.7794    0.9938    0.8736       160\n",
            "       River     0.9231    0.9000    0.9114       160\n",
            "\n",
            "    accuracy                         0.9083      2400\n",
            "   macro avg     0.9136    0.9083    0.9069      2400\n",
            "weighted avg     0.9136    0.9083    0.9069      2400\n",
            "\n"
          ]
        },
        {
          "output_type": "stream",
          "name": "stderr",
          "text": [
            "\rEpoch 2:   0%|          | 0/300 [00:00<?, ?it/s]/usr/local/lib/python3.11/dist-packages/torch/utils/data/dataloader.py:624: UserWarning: This DataLoader will create 16 worker processes in total. Our suggested max number of worker in current system is 2, which is smaller than what this DataLoader is going to create. Please be aware that excessive worker creation might get DataLoader running slow or even freeze, lower the worker number to avoid potential slowness/freeze if necessary.\n",
            "  warnings.warn(\n",
            "Epoch 2: 100%|██████████| 300/300 [01:02<00:00,  4.81it/s]"
          ]
        },
        {
          "output_type": "stream",
          "name": "stdout",
          "text": [
            "Epoch 2/20 - Loss: 0.2081\n"
          ]
        },
        {
          "output_type": "stream",
          "name": "stderr",
          "text": [
            "\n"
          ]
        },
        {
          "output_type": "stream",
          "name": "stdout",
          "text": [
            "Test Accuracy: 0.9496\n",
            "=== Classification Report ===\n",
            "              precision    recall  f1-score   support\n",
            "\n",
            " Agriculture     0.9618    0.9437    0.9527       160\n",
            "     Airport     0.9673    0.9250    0.9457       160\n",
            "       Beach     0.9249    1.0000    0.9610       160\n",
            "        City     0.9294    0.9875    0.9576       160\n",
            "      Desert     0.9390    0.9625    0.9506       160\n",
            "      Forest     0.9390    0.9625    0.9506       160\n",
            "   Grassland     0.9235    0.9812    0.9515       160\n",
            "     Highway     0.9133    0.9875    0.9489       160\n",
            "        Lake     0.9854    0.8438    0.9091       160\n",
            "    Mountain     0.9112    0.9625    0.9362       160\n",
            "     Parking     0.9873    0.9750    0.9811       160\n",
            "        Port     0.9937    0.9812    0.9874       160\n",
            "     Railway     0.9669    0.9125    0.9389       160\n",
            " Residential     1.0000    0.9437    0.9711       160\n",
            "       River     0.9211    0.8750    0.8974       160\n",
            "\n",
            "    accuracy                         0.9496      2400\n",
            "   macro avg     0.9509    0.9496    0.9493      2400\n",
            "weighted avg     0.9509    0.9496    0.9493      2400\n",
            "\n"
          ]
        },
        {
          "output_type": "stream",
          "name": "stderr",
          "text": [
            "\rEpoch 3:   0%|          | 0/300 [00:00<?, ?it/s]/usr/local/lib/python3.11/dist-packages/torch/utils/data/dataloader.py:624: UserWarning: This DataLoader will create 16 worker processes in total. Our suggested max number of worker in current system is 2, which is smaller than what this DataLoader is going to create. Please be aware that excessive worker creation might get DataLoader running slow or even freeze, lower the worker number to avoid potential slowness/freeze if necessary.\n",
            "  warnings.warn(\n",
            "Epoch 3: 100%|██████████| 300/300 [01:04<00:00,  4.68it/s]"
          ]
        },
        {
          "output_type": "stream",
          "name": "stdout",
          "text": [
            "Epoch 3/20 - Loss: 0.1487\n"
          ]
        },
        {
          "output_type": "stream",
          "name": "stderr",
          "text": [
            "\n"
          ]
        },
        {
          "output_type": "stream",
          "name": "stdout",
          "text": [
            "Test Accuracy: 0.9563\n",
            "=== Classification Report ===\n",
            "              precision    recall  f1-score   support\n",
            "\n",
            " Agriculture     0.9023    0.9812    0.9401       160\n",
            "     Airport     0.9739    0.9313    0.9521       160\n",
            "       Beach     0.9632    0.9812    0.9721       160\n",
            "        City     0.9868    0.9375    0.9615       160\n",
            "      Desert     0.9684    0.9563    0.9623       160\n",
            "      Forest     0.8820    0.9812    0.9290       160\n",
            "   Grassland     0.9852    0.8313    0.9017       160\n",
            "     Highway     0.9689    0.9750    0.9720       160\n",
            "        Lake     0.9286    0.9750    0.9512       160\n",
            "    Mountain     0.9613    0.9313    0.9460       160\n",
            "     Parking     0.9876    0.9938    0.9907       160\n",
            "        Port     0.9875    0.9875    0.9875       160\n",
            "     Railway     0.9448    0.9625    0.9536       160\n",
            " Residential     0.9875    0.9875    0.9875       160\n",
            "       River     0.9371    0.9313    0.9342       160\n",
            "\n",
            "    accuracy                         0.9563      2400\n",
            "   macro avg     0.9577    0.9563    0.9561      2400\n",
            "weighted avg     0.9577    0.9563    0.9561      2400\n",
            "\n"
          ]
        },
        {
          "output_type": "stream",
          "name": "stderr",
          "text": [
            "\rEpoch 4:   0%|          | 0/300 [00:00<?, ?it/s]/usr/local/lib/python3.11/dist-packages/torch/utils/data/dataloader.py:624: UserWarning: This DataLoader will create 16 worker processes in total. Our suggested max number of worker in current system is 2, which is smaller than what this DataLoader is going to create. Please be aware that excessive worker creation might get DataLoader running slow or even freeze, lower the worker number to avoid potential slowness/freeze if necessary.\n",
            "  warnings.warn(\n",
            "Epoch 4: 100%|██████████| 300/300 [01:02<00:00,  4.80it/s]"
          ]
        },
        {
          "output_type": "stream",
          "name": "stdout",
          "text": [
            "Epoch 4/20 - Loss: 0.1323\n"
          ]
        },
        {
          "output_type": "stream",
          "name": "stderr",
          "text": [
            "\n"
          ]
        },
        {
          "output_type": "stream",
          "name": "stdout",
          "text": [
            "Test Accuracy: 0.9504\n",
            "=== Classification Report ===\n",
            "              precision    recall  f1-score   support\n",
            "\n",
            " Agriculture     0.9461    0.9875    0.9664       160\n",
            "     Airport     0.8851    0.9625    0.9222       160\n",
            "       Beach     0.9871    0.9563    0.9714       160\n",
            "        City     0.8771    0.9812    0.9263       160\n",
            "      Desert     0.9679    0.9437    0.9557       160\n",
            "      Forest     0.9244    0.9938    0.9578       160\n",
            "   Grassland     0.9671    0.9187    0.9423       160\n",
            "     Highway     0.9805    0.9437    0.9618       160\n",
            "        Lake     0.9675    0.9313    0.9490       160\n",
            "    Mountain     0.9205    0.8688    0.8939       160\n",
            "     Parking     1.0000    0.9750    0.9873       160\n",
            "        Port     0.9518    0.9875    0.9693       160\n",
            "     Railway     0.9744    0.9500    0.9620       160\n",
            " Residential     0.9812    0.9812    0.9812       160\n",
            "       River     0.9459    0.8750    0.9091       160\n",
            "\n",
            "    accuracy                         0.9504      2400\n",
            "   macro avg     0.9518    0.9504    0.9504      2400\n",
            "weighted avg     0.9518    0.9504    0.9504      2400\n",
            "\n"
          ]
        },
        {
          "output_type": "stream",
          "name": "stderr",
          "text": [
            "\rEpoch 5:   0%|          | 0/300 [00:00<?, ?it/s]/usr/local/lib/python3.11/dist-packages/torch/utils/data/dataloader.py:624: UserWarning: This DataLoader will create 16 worker processes in total. Our suggested max number of worker in current system is 2, which is smaller than what this DataLoader is going to create. Please be aware that excessive worker creation might get DataLoader running slow or even freeze, lower the worker number to avoid potential slowness/freeze if necessary.\n",
            "  warnings.warn(\n",
            "Epoch 5: 100%|██████████| 300/300 [01:02<00:00,  4.82it/s]"
          ]
        },
        {
          "output_type": "stream",
          "name": "stdout",
          "text": [
            "Epoch 5/20 - Loss: 0.1279\n"
          ]
        },
        {
          "output_type": "stream",
          "name": "stderr",
          "text": [
            "\n"
          ]
        },
        {
          "output_type": "stream",
          "name": "stdout",
          "text": [
            "Test Accuracy: 0.9604\n",
            "=== Classification Report ===\n",
            "              precision    recall  f1-score   support\n",
            "\n",
            " Agriculture     0.9578    0.9938    0.9755       160\n",
            "     Airport     0.9506    0.9625    0.9565       160\n",
            "       Beach     0.9515    0.9812    0.9662       160\n",
            "        City     0.9871    0.9563    0.9714       160\n",
            "      Desert     0.8634    0.9875    0.9213       160\n",
            "      Forest     0.9748    0.9688    0.9718       160\n",
            "   Grassland     0.9623    0.9563    0.9592       160\n",
            "     Highway     0.9873    0.9688    0.9779       160\n",
            "        Lake     0.9563    0.9563    0.9563       160\n",
            "    Mountain     0.9926    0.8438    0.9122       160\n",
            "     Parking     1.0000    0.9688    0.9841       160\n",
            "        Port     0.9682    0.9500    0.9590       160\n",
            "     Railway     0.9682    0.9500    0.9590       160\n",
            " Residential     0.9695    0.9938    0.9815       160\n",
            "       River     0.9394    0.9688    0.9538       160\n",
            "\n",
            "    accuracy                         0.9604      2400\n",
            "   macro avg     0.9619    0.9604    0.9604      2400\n",
            "weighted avg     0.9619    0.9604    0.9604      2400\n",
            "\n"
          ]
        },
        {
          "output_type": "stream",
          "name": "stderr",
          "text": [
            "\rEpoch 6:   0%|          | 0/300 [00:00<?, ?it/s]/usr/local/lib/python3.11/dist-packages/torch/utils/data/dataloader.py:624: UserWarning: This DataLoader will create 16 worker processes in total. Our suggested max number of worker in current system is 2, which is smaller than what this DataLoader is going to create. Please be aware that excessive worker creation might get DataLoader running slow or even freeze, lower the worker number to avoid potential slowness/freeze if necessary.\n",
            "  warnings.warn(\n",
            "Epoch 6: 100%|██████████| 300/300 [01:01<00:00,  4.84it/s]"
          ]
        },
        {
          "output_type": "stream",
          "name": "stdout",
          "text": [
            "Epoch 6/20 - Loss: 0.1091\n"
          ]
        },
        {
          "output_type": "stream",
          "name": "stderr",
          "text": [
            "\n"
          ]
        },
        {
          "output_type": "stream",
          "name": "stdout",
          "text": [
            "Test Accuracy: 0.9542\n",
            "=== Classification Report ===\n",
            "              precision    recall  f1-score   support\n",
            "\n",
            " Agriculture     0.8966    0.9750    0.9341       160\n",
            "     Airport     0.9503    0.9563    0.9533       160\n",
            "       Beach     0.9191    0.9938    0.9550       160\n",
            "        City     0.9745    0.9563    0.9653       160\n",
            "      Desert     0.8771    0.9812    0.9263       160\n",
            "      Forest     0.9874    0.9812    0.9843       160\n",
            "   Grassland     0.9673    0.9250    0.9457       160\n",
            "     Highway     0.9752    0.9812    0.9782       160\n",
            "        Lake     0.9789    0.8688    0.9205       160\n",
            "    Mountain     0.9686    0.9625    0.9655       160\n",
            "     Parking     0.9755    0.9938    0.9845       160\n",
            "        Port     0.9874    0.9812    0.9843       160\n",
            "     Railway     0.9860    0.8812    0.9307       160\n",
            " Residential     0.9874    0.9812    0.9843       160\n",
            "       River     0.9051    0.8938    0.8994       160\n",
            "\n",
            "    accuracy                         0.9542      2400\n",
            "   macro avg     0.9558    0.9542    0.9541      2400\n",
            "weighted avg     0.9558    0.9542    0.9541      2400\n",
            "\n"
          ]
        },
        {
          "output_type": "stream",
          "name": "stderr",
          "text": [
            "\rEpoch 7:   0%|          | 0/300 [00:00<?, ?it/s]/usr/local/lib/python3.11/dist-packages/torch/utils/data/dataloader.py:624: UserWarning: This DataLoader will create 16 worker processes in total. Our suggested max number of worker in current system is 2, which is smaller than what this DataLoader is going to create. Please be aware that excessive worker creation might get DataLoader running slow or even freeze, lower the worker number to avoid potential slowness/freeze if necessary.\n",
            "  warnings.warn(\n",
            "Epoch 7: 100%|██████████| 300/300 [01:03<00:00,  4.70it/s]"
          ]
        },
        {
          "output_type": "stream",
          "name": "stdout",
          "text": [
            "Epoch 7/20 - Loss: 0.0952\n"
          ]
        },
        {
          "output_type": "stream",
          "name": "stderr",
          "text": [
            "\n"
          ]
        },
        {
          "output_type": "stream",
          "name": "stdout",
          "text": [
            "Test Accuracy: 0.9504\n",
            "=== Classification Report ===\n",
            "              precision    recall  f1-score   support\n",
            "\n",
            " Agriculture     0.9521    0.9938    0.9725       160\n",
            "     Airport     0.9398    0.9750    0.9571       160\n",
            "       Beach     0.9627    0.9688    0.9657       160\n",
            "        City     0.9868    0.9313    0.9582       160\n",
            "      Desert     0.8634    0.9875    0.9213       160\n",
            "      Forest     0.9752    0.9812    0.9782       160\n",
            "   Grassland     0.9578    0.9938    0.9755       160\n",
            "     Highway     0.9620    0.9500    0.9560       160\n",
            "        Lake     0.9773    0.8063    0.8836       160\n",
            "    Mountain     0.9712    0.8438    0.9030       160\n",
            "     Parking     0.9627    0.9688    0.9657       160\n",
            "        Port     0.9937    0.9812    0.9874       160\n",
            "     Railway     0.9673    0.9250    0.9457       160\n",
            " Residential     0.9581    1.0000    0.9786       160\n",
            "       River     0.8588    0.9500    0.9021       160\n",
            "\n",
            "    accuracy                         0.9504      2400\n",
            "   macro avg     0.9526    0.9504    0.9500      2400\n",
            "weighted avg     0.9526    0.9504    0.9500      2400\n",
            "\n"
          ]
        },
        {
          "output_type": "stream",
          "name": "stderr",
          "text": [
            "\rEpoch 8:   0%|          | 0/300 [00:00<?, ?it/s]/usr/local/lib/python3.11/dist-packages/torch/utils/data/dataloader.py:624: UserWarning: This DataLoader will create 16 worker processes in total. Our suggested max number of worker in current system is 2, which is smaller than what this DataLoader is going to create. Please be aware that excessive worker creation might get DataLoader running slow or even freeze, lower the worker number to avoid potential slowness/freeze if necessary.\n",
            "  warnings.warn(\n",
            "Epoch 8: 100%|██████████| 300/300 [01:03<00:00,  4.76it/s]"
          ]
        },
        {
          "output_type": "stream",
          "name": "stdout",
          "text": [
            "Epoch 8/20 - Loss: 0.0933\n"
          ]
        },
        {
          "output_type": "stream",
          "name": "stderr",
          "text": [
            "\n"
          ]
        },
        {
          "output_type": "stream",
          "name": "stdout",
          "text": [
            "Test Accuracy: 0.9325\n",
            "=== Classification Report ===\n",
            "              precision    recall  f1-score   support\n",
            "\n",
            " Agriculture     0.8882    0.9437    0.9152       160\n",
            "     Airport     0.9357    0.8187    0.8733       160\n",
            "       Beach     0.9448    0.9625    0.9536       160\n",
            "        City     0.9684    0.9563    0.9623       160\n",
            "      Desert     0.9686    0.9625    0.9655       160\n",
            "      Forest     0.9667    0.9062    0.9355       160\n",
            "   Grassland     0.9448    0.9625    0.9536       160\n",
            "     Highway     0.9430    0.9313    0.9371       160\n",
            "        Lake     0.8093    0.9812    0.8870       160\n",
            "    Mountain     0.9613    0.9313    0.9460       160\n",
            "     Parking     0.9874    0.9812    0.9843       160\n",
            "        Port     0.9860    0.8812    0.9307       160\n",
            "     Railway     0.8475    0.9375    0.8902       160\n",
            " Residential     0.9752    0.9812    0.9782       160\n",
            "       River     0.9067    0.8500    0.8774       160\n",
            "\n",
            "    accuracy                         0.9325      2400\n",
            "   macro avg     0.9356    0.9325    0.9327      2400\n",
            "weighted avg     0.9356    0.9325    0.9327      2400\n",
            "\n"
          ]
        },
        {
          "output_type": "stream",
          "name": "stderr",
          "text": [
            "\rEpoch 9:   0%|          | 0/300 [00:00<?, ?it/s]/usr/local/lib/python3.11/dist-packages/torch/utils/data/dataloader.py:624: UserWarning: This DataLoader will create 16 worker processes in total. Our suggested max number of worker in current system is 2, which is smaller than what this DataLoader is going to create. Please be aware that excessive worker creation might get DataLoader running slow or even freeze, lower the worker number to avoid potential slowness/freeze if necessary.\n",
            "  warnings.warn(\n",
            "Epoch 9: 100%|██████████| 300/300 [01:02<00:00,  4.81it/s]"
          ]
        },
        {
          "output_type": "stream",
          "name": "stdout",
          "text": [
            "Epoch 9/20 - Loss: 0.0827\n"
          ]
        },
        {
          "output_type": "stream",
          "name": "stderr",
          "text": [
            "\n"
          ]
        },
        {
          "output_type": "stream",
          "name": "stdout",
          "text": [
            "Test Accuracy: 0.9583\n",
            "=== Classification Report ===\n",
            "              precision    recall  f1-score   support\n",
            "\n",
            " Agriculture     0.9515    0.9812    0.9662       160\n",
            "     Airport     0.9684    0.9563    0.9623       160\n",
            "       Beach     0.9632    0.9812    0.9721       160\n",
            "        City     0.9321    0.9437    0.9379       160\n",
            "      Desert     0.9625    0.9625    0.9625       160\n",
            "      Forest     0.9573    0.9812    0.9691       160\n",
            "   Grassland     0.9464    0.9938    0.9695       160\n",
            "     Highway     1.0000    0.9625    0.9809       160\n",
            "        Lake     0.9565    0.9625    0.9595       160\n",
            "    Mountain     0.9658    0.8812    0.9216       160\n",
            "     Parking     1.0000    0.9500    0.9744       160\n",
            "        Port     0.9630    0.9750    0.9689       160\n",
            "     Railway     0.9560    0.9500    0.9530       160\n",
            " Residential     0.9191    0.9938    0.9550       160\n",
            "       River     0.9412    0.9000    0.9201       160\n",
            "\n",
            "    accuracy                         0.9583      2400\n",
            "   macro avg     0.9589    0.9583    0.9582      2400\n",
            "weighted avg     0.9589    0.9583    0.9582      2400\n",
            "\n"
          ]
        },
        {
          "output_type": "stream",
          "name": "stderr",
          "text": [
            "\rEpoch 10:   0%|          | 0/300 [00:00<?, ?it/s]/usr/local/lib/python3.11/dist-packages/torch/utils/data/dataloader.py:624: UserWarning: This DataLoader will create 16 worker processes in total. Our suggested max number of worker in current system is 2, which is smaller than what this DataLoader is going to create. Please be aware that excessive worker creation might get DataLoader running slow or even freeze, lower the worker number to avoid potential slowness/freeze if necessary.\n",
            "  warnings.warn(\n",
            "Epoch 10: 100%|██████████| 300/300 [01:02<00:00,  4.81it/s]"
          ]
        },
        {
          "output_type": "stream",
          "name": "stdout",
          "text": [
            "Epoch 10/20 - Loss: 0.0862\n"
          ]
        },
        {
          "output_type": "stream",
          "name": "stderr",
          "text": [
            "\n"
          ]
        },
        {
          "output_type": "stream",
          "name": "stdout",
          "text": [
            "Test Accuracy: 0.9579\n",
            "=== Classification Report ===\n",
            "              precision    recall  f1-score   support\n",
            "\n",
            " Agriculture     0.9286    0.9750    0.9512       160\n",
            "     Airport     0.8941    0.9500    0.9212       160\n",
            "       Beach     0.9812    0.9812    0.9812       160\n",
            "        City     0.9568    0.9688    0.9627       160\n",
            "      Desert     0.9931    0.9000    0.9443       160\n",
            "      Forest     0.9345    0.9812    0.9573       160\n",
            "   Grassland     0.9509    0.9688    0.9598       160\n",
            "     Highway     0.9747    0.9625    0.9686       160\n",
            "        Lake     0.9521    0.9938    0.9725       160\n",
            "    Mountain     0.9023    0.9812    0.9401       160\n",
            "     Parking     0.9753    0.9875    0.9814       160\n",
            "        Port     0.9876    0.9938    0.9907       160\n",
            "     Railway     0.9679    0.9437    0.9557       160\n",
            " Residential     0.9937    0.9812    0.9874       160\n",
            "       River     1.0000    0.8000    0.8889       160\n",
            "\n",
            "    accuracy                         0.9579      2400\n",
            "   macro avg     0.9595    0.9579    0.9575      2400\n",
            "weighted avg     0.9595    0.9579    0.9575      2400\n",
            "\n"
          ]
        },
        {
          "output_type": "stream",
          "name": "stderr",
          "text": [
            "\rEpoch 11:   0%|          | 0/300 [00:00<?, ?it/s]/usr/local/lib/python3.11/dist-packages/torch/utils/data/dataloader.py:624: UserWarning: This DataLoader will create 16 worker processes in total. Our suggested max number of worker in current system is 2, which is smaller than what this DataLoader is going to create. Please be aware that excessive worker creation might get DataLoader running slow or even freeze, lower the worker number to avoid potential slowness/freeze if necessary.\n",
            "  warnings.warn(\n",
            "Epoch 11: 100%|██████████| 300/300 [01:04<00:00,  4.66it/s]"
          ]
        },
        {
          "output_type": "stream",
          "name": "stdout",
          "text": [
            "Epoch 11/20 - Loss: 0.0812\n"
          ]
        },
        {
          "output_type": "stream",
          "name": "stderr",
          "text": [
            "\n"
          ]
        },
        {
          "output_type": "stream",
          "name": "stdout",
          "text": [
            "Test Accuracy: 0.9546\n",
            "=== Classification Report ===\n",
            "              precision    recall  f1-score   support\n",
            "\n",
            " Agriculture     0.9686    0.9625    0.9655       160\n",
            "     Airport     1.0000    0.8438    0.9153       160\n",
            "       Beach     0.9752    0.9812    0.9782       160\n",
            "        City     0.9337    0.9688    0.9509       160\n",
            "      Desert     0.9349    0.9875    0.9605       160\n",
            "      Forest     0.9565    0.9625    0.9595       160\n",
            "   Grassland     0.9697    1.0000    0.9846       160\n",
            "     Highway     0.9739    0.9313    0.9521       160\n",
            "        Lake     0.9739    0.9313    0.9521       160\n",
            "    Mountain     0.9862    0.8938    0.9377       160\n",
            "     Parking     0.9873    0.9688    0.9779       160\n",
            "        Port     1.0000    0.9500    0.9744       160\n",
            "     Railway     0.8325    0.9938    0.9060       160\n",
            " Residential     0.9634    0.9875    0.9753       160\n",
            "       River     0.9053    0.9563    0.9301       160\n",
            "\n",
            "    accuracy                         0.9546      2400\n",
            "   macro avg     0.9574    0.9546    0.9547      2400\n",
            "weighted avg     0.9574    0.9546    0.9547      2400\n",
            "\n"
          ]
        },
        {
          "output_type": "stream",
          "name": "stderr",
          "text": [
            "\rEpoch 12:   0%|          | 0/300 [00:00<?, ?it/s]/usr/local/lib/python3.11/dist-packages/torch/utils/data/dataloader.py:624: UserWarning: This DataLoader will create 16 worker processes in total. Our suggested max number of worker in current system is 2, which is smaller than what this DataLoader is going to create. Please be aware that excessive worker creation might get DataLoader running slow or even freeze, lower the worker number to avoid potential slowness/freeze if necessary.\n",
            "  warnings.warn(\n",
            "Epoch 12: 100%|██████████| 300/300 [01:02<00:00,  4.81it/s]"
          ]
        },
        {
          "output_type": "stream",
          "name": "stdout",
          "text": [
            "Epoch 12/20 - Loss: 0.0952\n"
          ]
        },
        {
          "output_type": "stream",
          "name": "stderr",
          "text": [
            "\n"
          ]
        },
        {
          "output_type": "stream",
          "name": "stdout",
          "text": [
            "Test Accuracy: 0.9587\n",
            "=== Classification Report ===\n",
            "              precision    recall  f1-score   support\n",
            "\n",
            " Agriculture     0.9521    0.9938    0.9725       160\n",
            "     Airport     0.9693    0.9875    0.9783       160\n",
            "       Beach     0.9461    0.9875    0.9664       160\n",
            "        City     0.9695    0.9938    0.9815       160\n",
            "      Desert     0.9464    0.9938    0.9695       160\n",
            "      Forest     0.9695    0.7937    0.8729       160\n",
            "   Grassland     0.7980    0.9875    0.8827       160\n",
            "     Highway     0.9937    0.9812    0.9874       160\n",
            "        Lake     0.9565    0.9625    0.9595       160\n",
            "    Mountain     0.9737    0.9250    0.9487       160\n",
            "     Parking     0.9815    0.9938    0.9876       160\n",
            "        Port     1.0000    0.9563    0.9776       160\n",
            "     Railway     0.9869    0.9437    0.9649       160\n",
            " Residential     0.9936    0.9750    0.9842       160\n",
            "       River     0.9932    0.9062    0.9477       160\n",
            "\n",
            "    accuracy                         0.9587      2400\n",
            "   macro avg     0.9620    0.9588    0.9588      2400\n",
            "weighted avg     0.9620    0.9587    0.9588      2400\n",
            "\n"
          ]
        },
        {
          "output_type": "stream",
          "name": "stderr",
          "text": [
            "\rEpoch 13:   0%|          | 0/300 [00:00<?, ?it/s]/usr/local/lib/python3.11/dist-packages/torch/utils/data/dataloader.py:624: UserWarning: This DataLoader will create 16 worker processes in total. Our suggested max number of worker in current system is 2, which is smaller than what this DataLoader is going to create. Please be aware that excessive worker creation might get DataLoader running slow or even freeze, lower the worker number to avoid potential slowness/freeze if necessary.\n",
            "  warnings.warn(\n",
            "Epoch 13: 100%|██████████| 300/300 [01:01<00:00,  4.85it/s]"
          ]
        },
        {
          "output_type": "stream",
          "name": "stdout",
          "text": [
            "Epoch 13/20 - Loss: 0.0616\n"
          ]
        },
        {
          "output_type": "stream",
          "name": "stderr",
          "text": [
            "\n"
          ]
        },
        {
          "output_type": "stream",
          "name": "stdout",
          "text": [
            "Test Accuracy: 0.9537\n",
            "=== Classification Report ===\n",
            "              precision    recall  f1-score   support\n",
            "\n",
            " Agriculture     0.9294    0.9875    0.9576       160\n",
            "     Airport     0.9451    0.9688    0.9568       160\n",
            "       Beach     0.9697    1.0000    0.9846       160\n",
            "        City     0.9745    0.9563    0.9653       160\n",
            "      Desert     0.9747    0.9625    0.9686       160\n",
            "      Forest     0.8876    0.9875    0.9349       160\n",
            "   Grassland     0.9805    0.9437    0.9618       160\n",
            "     Highway     0.9803    0.9313    0.9551       160\n",
            "        Lake     0.9799    0.9125    0.9450       160\n",
            "    Mountain     0.9630    0.8125    0.8814       160\n",
            "     Parking     0.9873    0.9688    0.9779       160\n",
            "        Port     1.0000    0.9500    0.9744       160\n",
            "     Railway     0.8785    0.9938    0.9326       160\n",
            " Residential     0.9815    0.9938    0.9876       160\n",
            "       River     0.9036    0.9375    0.9202       160\n",
            "\n",
            "    accuracy                         0.9537      2400\n",
            "   macro avg     0.9557    0.9537    0.9536      2400\n",
            "weighted avg     0.9557    0.9537    0.9536      2400\n",
            "\n"
          ]
        },
        {
          "output_type": "stream",
          "name": "stderr",
          "text": [
            "\rEpoch 14:   0%|          | 0/300 [00:00<?, ?it/s]/usr/local/lib/python3.11/dist-packages/torch/utils/data/dataloader.py:624: UserWarning: This DataLoader will create 16 worker processes in total. Our suggested max number of worker in current system is 2, which is smaller than what this DataLoader is going to create. Please be aware that excessive worker creation might get DataLoader running slow or even freeze, lower the worker number to avoid potential slowness/freeze if necessary.\n",
            "  warnings.warn(\n",
            "Epoch 14: 100%|██████████| 300/300 [01:01<00:00,  4.88it/s]"
          ]
        },
        {
          "output_type": "stream",
          "name": "stdout",
          "text": [
            "Epoch 14/20 - Loss: 0.0802\n"
          ]
        },
        {
          "output_type": "stream",
          "name": "stderr",
          "text": [
            "\n"
          ]
        },
        {
          "output_type": "stream",
          "name": "stdout",
          "text": [
            "Test Accuracy: 0.9604\n",
            "=== Classification Report ===\n",
            "              precision    recall  f1-score   support\n",
            "\n",
            " Agriculture     0.9268    0.9500    0.9383       160\n",
            "     Airport     0.9487    0.9250    0.9367       160\n",
            "       Beach     0.9639    1.0000    0.9816       160\n",
            "        City     0.9186    0.9875    0.9518       160\n",
            "      Desert     0.9630    0.9750    0.9689       160\n",
            "      Forest     0.9398    0.9750    0.9571       160\n",
            "   Grassland     0.9691    0.9812    0.9752       160\n",
            "     Highway     0.9935    0.9563    0.9745       160\n",
            "        Lake     0.9341    0.9750    0.9541       160\n",
            "    Mountain     0.9854    0.8438    0.9091       160\n",
            "     Parking     0.9876    0.9938    0.9907       160\n",
            "        Port     0.9816    1.0000    0.9907       160\n",
            "     Railway     0.9742    0.9437    0.9587       160\n",
            " Residential     0.9752    0.9812    0.9782       160\n",
            "       River     0.9545    0.9187    0.9363       160\n",
            "\n",
            "    accuracy                         0.9604      2400\n",
            "   macro avg     0.9611    0.9604    0.9601      2400\n",
            "weighted avg     0.9611    0.9604    0.9601      2400\n",
            "\n"
          ]
        },
        {
          "output_type": "stream",
          "name": "stderr",
          "text": [
            "\rEpoch 15:   0%|          | 0/300 [00:00<?, ?it/s]/usr/local/lib/python3.11/dist-packages/torch/utils/data/dataloader.py:624: UserWarning: This DataLoader will create 16 worker processes in total. Our suggested max number of worker in current system is 2, which is smaller than what this DataLoader is going to create. Please be aware that excessive worker creation might get DataLoader running slow or even freeze, lower the worker number to avoid potential slowness/freeze if necessary.\n",
            "  warnings.warn(\n",
            "Epoch 15: 100%|██████████| 300/300 [01:03<00:00,  4.69it/s]"
          ]
        },
        {
          "output_type": "stream",
          "name": "stdout",
          "text": [
            "Epoch 15/20 - Loss: 0.0676\n"
          ]
        },
        {
          "output_type": "stream",
          "name": "stderr",
          "text": [
            "\n"
          ]
        },
        {
          "output_type": "stream",
          "name": "stdout",
          "text": [
            "Test Accuracy: 0.9525\n",
            "=== Classification Report ===\n",
            "              precision    recall  f1-score   support\n",
            "\n",
            " Agriculture     0.9568    0.9688    0.9627       160\n",
            "     Airport     0.9933    0.9250    0.9579       160\n",
            "       Beach     0.9752    0.9812    0.9782       160\n",
            "        City     0.9691    0.9812    0.9752       160\n",
            "      Desert     0.9848    0.8125    0.8904       160\n",
            "      Forest     0.9800    0.9187    0.9484       160\n",
            "   Grassland     0.7960    1.0000    0.8864       160\n",
            "     Highway     0.9801    0.9250    0.9518       160\n",
            "        Lake     0.9613    0.9313    0.9460       160\n",
            "    Mountain     0.9286    0.9750    0.9512       160\n",
            "     Parking     1.0000    0.9875    0.9937       160\n",
            "        Port     0.9405    0.9875    0.9634       160\n",
            "     Railway     0.9349    0.9875    0.9605       160\n",
            " Residential     0.9873    0.9750    0.9811       160\n",
            "       River     0.9551    0.9313    0.9430       160\n",
            "\n",
            "    accuracy                         0.9525      2400\n",
            "   macro avg     0.9562    0.9525    0.9527      2400\n",
            "weighted avg     0.9562    0.9525    0.9527      2400\n",
            "\n"
          ]
        },
        {
          "output_type": "stream",
          "name": "stderr",
          "text": [
            "\rEpoch 16:   0%|          | 0/300 [00:00<?, ?it/s]/usr/local/lib/python3.11/dist-packages/torch/utils/data/dataloader.py:624: UserWarning: This DataLoader will create 16 worker processes in total. Our suggested max number of worker in current system is 2, which is smaller than what this DataLoader is going to create. Please be aware that excessive worker creation might get DataLoader running slow or even freeze, lower the worker number to avoid potential slowness/freeze if necessary.\n",
            "  warnings.warn(\n",
            "Epoch 16: 100%|██████████| 300/300 [01:03<00:00,  4.74it/s]"
          ]
        },
        {
          "output_type": "stream",
          "name": "stdout",
          "text": [
            "Epoch 16/20 - Loss: 0.0895\n"
          ]
        },
        {
          "output_type": "stream",
          "name": "stderr",
          "text": [
            "\n"
          ]
        },
        {
          "output_type": "stream",
          "name": "stdout",
          "text": [
            "Test Accuracy: 0.9587\n",
            "=== Classification Report ===\n",
            "              precision    recall  f1-score   support\n",
            "\n",
            " Agriculture     0.9176    0.9750    0.9455       160\n",
            "     Airport     0.9790    0.8750    0.9241       160\n",
            "       Beach     0.9753    0.9875    0.9814       160\n",
            "        City     0.9745    0.9563    0.9653       160\n",
            "      Desert     0.9451    0.9688    0.9568       160\n",
            "      Forest     0.9932    0.9187    0.9545       160\n",
            "   Grassland     0.9521    0.9938    0.9725       160\n",
            "     Highway     0.9748    0.9688    0.9718       160\n",
            "        Lake     0.9682    0.9500    0.9590       160\n",
            "    Mountain     0.9255    0.9313    0.9283       160\n",
            "     Parking     0.9636    0.9938    0.9785       160\n",
            "        Port     0.9935    0.9563    0.9745       160\n",
            "     Railway     0.9444    0.9563    0.9503       160\n",
            " Residential     0.9876    0.9938    0.9907       160\n",
            "       River     0.9000    0.9563    0.9273       160\n",
            "\n",
            "    accuracy                         0.9587      2400\n",
            "   macro avg     0.9596    0.9588    0.9587      2400\n",
            "weighted avg     0.9596    0.9587    0.9587      2400\n",
            "\n"
          ]
        },
        {
          "output_type": "stream",
          "name": "stderr",
          "text": [
            "\rEpoch 17:   0%|          | 0/300 [00:00<?, ?it/s]/usr/local/lib/python3.11/dist-packages/torch/utils/data/dataloader.py:624: UserWarning: This DataLoader will create 16 worker processes in total. Our suggested max number of worker in current system is 2, which is smaller than what this DataLoader is going to create. Please be aware that excessive worker creation might get DataLoader running slow or even freeze, lower the worker number to avoid potential slowness/freeze if necessary.\n",
            "  warnings.warn(\n",
            "Epoch 17: 100%|██████████| 300/300 [01:02<00:00,  4.83it/s]"
          ]
        },
        {
          "output_type": "stream",
          "name": "stdout",
          "text": [
            "Epoch 17/20 - Loss: 0.0556\n"
          ]
        },
        {
          "output_type": "stream",
          "name": "stderr",
          "text": [
            "\n"
          ]
        },
        {
          "output_type": "stream",
          "name": "stdout",
          "text": [
            "Test Accuracy: 0.9621\n",
            "=== Classification Report ===\n",
            "              precision    recall  f1-score   support\n",
            "\n",
            " Agriculture     0.9630    0.9750    0.9689       160\n",
            "     Airport     0.9684    0.9563    0.9623       160\n",
            "       Beach     0.9815    0.9938    0.9876       160\n",
            "        City     0.9932    0.9125    0.9511       160\n",
            "      Desert     0.9451    0.9688    0.9568       160\n",
            "      Forest     0.9742    0.9437    0.9587       160\n",
            "   Grassland     0.9040    1.0000    0.9496       160\n",
            "     Highway     0.9632    0.9812    0.9721       160\n",
            "        Lake     0.9636    0.9938    0.9785       160\n",
            "    Mountain     0.9217    0.9563    0.9387       160\n",
            "     Parking     0.9632    0.9812    0.9721       160\n",
            "        Port     0.9938    0.9938    0.9938       160\n",
            "     Railway     0.9277    0.9625    0.9448       160\n",
            " Residential     0.9938    0.9938    0.9938       160\n",
            "       River     0.9924    0.8187    0.8973       160\n",
            "\n",
            "    accuracy                         0.9621      2400\n",
            "   macro avg     0.9632    0.9621    0.9617      2400\n",
            "weighted avg     0.9632    0.9621    0.9617      2400\n",
            "\n"
          ]
        },
        {
          "output_type": "stream",
          "name": "stderr",
          "text": [
            "\rEpoch 18:   0%|          | 0/300 [00:00<?, ?it/s]/usr/local/lib/python3.11/dist-packages/torch/utils/data/dataloader.py:624: UserWarning: This DataLoader will create 16 worker processes in total. Our suggested max number of worker in current system is 2, which is smaller than what this DataLoader is going to create. Please be aware that excessive worker creation might get DataLoader running slow or even freeze, lower the worker number to avoid potential slowness/freeze if necessary.\n",
            "  warnings.warn(\n",
            "Epoch 18: 100%|██████████| 300/300 [01:02<00:00,  4.82it/s]"
          ]
        },
        {
          "output_type": "stream",
          "name": "stdout",
          "text": [
            "Epoch 18/20 - Loss: 0.0648\n"
          ]
        },
        {
          "output_type": "stream",
          "name": "stderr",
          "text": [
            "\n"
          ]
        },
        {
          "output_type": "stream",
          "name": "stdout",
          "text": [
            "Test Accuracy: 0.9608\n",
            "=== Classification Report ===\n",
            "              precision    recall  f1-score   support\n",
            "\n",
            " Agriculture     0.9684    0.9563    0.9623       160\n",
            "     Airport     0.9870    0.9500    0.9682       160\n",
            "       Beach     0.9695    0.9938    0.9815       160\n",
            "        City     0.9752    0.9812    0.9782       160\n",
            "      Desert     0.9848    0.8125    0.8904       160\n",
            "      Forest     0.9627    0.9688    0.9657       160\n",
            "   Grassland     0.9565    0.9625    0.9595       160\n",
            "     Highway     0.9518    0.9875    0.9693       160\n",
            "        Lake     0.9620    0.9500    0.9560       160\n",
            "    Mountain     0.8307    0.9812    0.8997       160\n",
            "     Parking     0.9755    0.9938    0.9845       160\n",
            "        Port     0.9938    0.9938    0.9938       160\n",
            "     Railway     0.9679    0.9437    0.9557       160\n",
            " Residential     1.0000    0.9812    0.9905       160\n",
            "       River     0.9563    0.9563    0.9563       160\n",
            "\n",
            "    accuracy                         0.9608      2400\n",
            "   macro avg     0.9628    0.9608    0.9608      2400\n",
            "weighted avg     0.9628    0.9608    0.9608      2400\n",
            "\n"
          ]
        },
        {
          "output_type": "stream",
          "name": "stderr",
          "text": [
            "\rEpoch 19:   0%|          | 0/300 [00:00<?, ?it/s]/usr/local/lib/python3.11/dist-packages/torch/utils/data/dataloader.py:624: UserWarning: This DataLoader will create 16 worker processes in total. Our suggested max number of worker in current system is 2, which is smaller than what this DataLoader is going to create. Please be aware that excessive worker creation might get DataLoader running slow or even freeze, lower the worker number to avoid potential slowness/freeze if necessary.\n",
            "  warnings.warn(\n",
            "Epoch 19: 100%|██████████| 300/300 [01:03<00:00,  4.72it/s]"
          ]
        },
        {
          "output_type": "stream",
          "name": "stdout",
          "text": [
            "Epoch 19/20 - Loss: 0.0677\n"
          ]
        },
        {
          "output_type": "stream",
          "name": "stderr",
          "text": [
            "\n"
          ]
        },
        {
          "output_type": "stream",
          "name": "stdout",
          "text": [
            "Test Accuracy: 0.9762\n",
            "=== Classification Report ===\n",
            "              precision    recall  f1-score   support\n",
            "\n",
            " Agriculture     0.9455    0.9750    0.9600       160\n",
            "     Airport     0.9935    0.9500    0.9712       160\n",
            "       Beach     0.9815    0.9938    0.9876       160\n",
            "        City     0.9750    0.9750    0.9750       160\n",
            "      Desert     0.9810    0.9688    0.9748       160\n",
            "      Forest     0.9814    0.9875    0.9844       160\n",
            "   Grassland     0.9812    0.9812    0.9812       160\n",
            "     Highway     0.9875    0.9875    0.9875       160\n",
            "        Lake     0.9745    0.9563    0.9653       160\n",
            "    Mountain     0.9509    0.9688    0.9598       160\n",
            "     Parking     0.9877    1.0000    0.9938       160\n",
            "        Port     0.9937    0.9812    0.9874       160\n",
            "     Railway     0.9512    0.9750    0.9630       160\n",
            " Residential     0.9937    0.9812    0.9874       160\n",
            "       River     0.9686    0.9625    0.9655       160\n",
            "\n",
            "    accuracy                         0.9762      2400\n",
            "   macro avg     0.9764    0.9762    0.9763      2400\n",
            "weighted avg     0.9764    0.9762    0.9763      2400\n",
            "\n"
          ]
        },
        {
          "output_type": "stream",
          "name": "stderr",
          "text": [
            "\rEpoch 20:   0%|          | 0/300 [00:00<?, ?it/s]/usr/local/lib/python3.11/dist-packages/torch/utils/data/dataloader.py:624: UserWarning: This DataLoader will create 16 worker processes in total. Our suggested max number of worker in current system is 2, which is smaller than what this DataLoader is going to create. Please be aware that excessive worker creation might get DataLoader running slow or even freeze, lower the worker number to avoid potential slowness/freeze if necessary.\n",
            "  warnings.warn(\n",
            "Epoch 20: 100%|██████████| 300/300 [01:02<00:00,  4.80it/s]"
          ]
        },
        {
          "output_type": "stream",
          "name": "stdout",
          "text": [
            "Epoch 20/20 - Loss: 0.0457\n"
          ]
        },
        {
          "output_type": "stream",
          "name": "stderr",
          "text": [
            "\n"
          ]
        },
        {
          "output_type": "stream",
          "name": "stdout",
          "text": [
            "Test Accuracy: 0.9625\n",
            "=== Classification Report ===\n",
            "              precision    recall  f1-score   support\n",
            "\n",
            " Agriculture     0.9029    0.9875    0.9433       160\n",
            "     Airport     0.9737    0.9250    0.9487       160\n",
            "       Beach     0.9811    0.9750    0.9781       160\n",
            "        City     0.9408    0.9938    0.9666       160\n",
            "      Desert     0.9509    0.9688    0.9598       160\n",
            "      Forest     0.9560    0.9500    0.9530       160\n",
            "   Grassland     0.9632    0.9812    0.9721       160\n",
            "     Highway     0.9689    0.9750    0.9720       160\n",
            "        Lake     0.9620    0.9500    0.9560       160\n",
            "    Mountain     0.9329    0.9563    0.9444       160\n",
            "     Parking     0.9937    0.9812    0.9874       160\n",
            "        Port     1.0000    0.9563    0.9776       160\n",
            "     Railway     0.9935    0.9625    0.9778       160\n",
            " Residential     0.9576    0.9875    0.9723       160\n",
            "       River     0.9726    0.8875    0.9281       160\n",
            "\n",
            "    accuracy                         0.9625      2400\n",
            "   macro avg     0.9633    0.9625    0.9625      2400\n",
            "weighted avg     0.9633    0.9625    0.9625      2400\n",
            "\n"
          ]
        }
      ],
      "execution_count": null
    },
    {
      "cell_type": "code",
      "execution_count": null,
      "id": "1866da82cfde1907",
      "metadata": {
        "id": "1866da82cfde1907",
        "colab": {
          "base_uri": "https://localhost:8080/",
          "height": 1000
        },
        "outputId": "61319173-13b9-4c8e-e637-b888ea442bd1"
      },
      "outputs": [
        {
          "output_type": "stream",
          "name": "stderr",
          "text": [
            "/usr/local/lib/python3.11/dist-packages/torch/utils/data/dataloader.py:624: UserWarning: This DataLoader will create 16 worker processes in total. Our suggested max number of worker in current system is 2, which is smaller than what this DataLoader is going to create. Please be aware that excessive worker creation might get DataLoader running slow or even freeze, lower the worker number to avoid potential slowness/freeze if necessary.\n",
            "  warnings.warn(\n"
          ]
        },
        {
          "output_type": "display_data",
          "data": {
            "text/plain": [
              "<Figure size 1200x1000 with 2 Axes>"
            ],
            "image/png": "[encoded data removed]"
          },
          "metadata": {}
        }
      ],
      "source": [
        "from sklearn.metrics import confusion_matrix, ConfusionMatrixDisplay\n",
        "import matplotlib.pyplot as plt\n",
        "\n",
        "all_preds, all_labels = [], []\n",
        "model.eval()\n",
        "with torch.no_grad():\n",
        "    for images, labels in test_loader:\n",
        "        images, labels = images.to(device), labels.to(device)\n",
        "        logits = model(images)\n",
        "        preds = logits.argmax(dim=1)\n",
        "        all_preds.extend(preds.cpu().numpy())\n",
        "        all_labels.extend(labels.cpu().numpy())\n",
        "\n",
        "cm = confusion_matrix(all_labels, all_preds)\n",
        "\n",
        "fig, ax = plt.subplots(figsize=(12, 10))\n",
        "\n",
        "\n",
        "disp = ConfusionMatrixDisplay(cm, display_labels=dataset.classes)\n",
        "disp.plot(ax=ax, cmap=plt.cm.Blues, values_format='d')\n",
        "\n",
        "\n",
        "plt.setp(ax.get_xticklabels(), rotation=45, ha='right')\n",
        "\n",
        "ax.set_title(\"Test Set Confusion Matrix\")\n",
        "plt.tight_layout()\n",
        "\n",
        "plt.show()"
      ]
    },
    {
      "cell_type": "code",
      "source": [],
      "metadata": {
        "id": "cNo1xNPqEz7K"
      },
      "id": "cNo1xNPqEz7K",
      "execution_count": null,
      "outputs": []
    }
  ],
  "metadata": {
    "kernelspec": {
      "display_name": "Python 3",
      "name": "python3"
    },
    "language_info": {
      "codemirror_mode": {
        "name": "ipython",
        "version": 3
      },
      "file_extension": ".py",
      "mimetype": "text/x-python",
      "name": "python",
      "nbconvert_exporter": "python",
      "pygments_lexer": "ipython3",
      "version": "3.11.11"
    },
    "colab": {
      "provenance": [],
      "gpuType": "T4"
    },
    "accelerator": "GPU"
  },
  "nbformat": 4,
  "nbformat_minor": 5
}